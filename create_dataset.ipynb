{
 "cells": [
  {
   "cell_type": "markdown",
   "metadata": {},
   "source": [
    "## Create Dataset"
   ]
  },
  {
   "cell_type": "code",
   "execution_count": 68,
   "metadata": {},
   "outputs": [],
   "source": [
    "import pandas as pd\n",
    "from Bio.SeqIO import parse\n",
    "from Bio.SeqRecord import SeqRecord\n",
    "from Bio.Seq import Seq"
   ]
  },
  {
   "cell_type": "code",
   "execution_count": 69,
   "metadata": {},
   "outputs": [],
   "source": [
    "csv_contents = pd.read_csv(\"sequences.csv\")\n",
    "fasta_file = open(\"sequences.fasta\")\n",
    "records = parse(fasta_file,\"fasta\")"
   ]
  },
  {
   "cell_type": "markdown",
   "metadata": {},
   "source": [
    "Now, we find the rows in the **sequences.csv** file, which have the entry in the **accession** column in common with the record id of the records in the fasta file, and we create a new column **Sequence** in the original dataframe filling them with the sequences in the records."
   ]
  },
  {
   "cell_type": "code",
   "execution_count": 70,
   "metadata": {},
   "outputs": [],
   "source": [
    "for record in records:\n",
    "    cc = 0\n",
    "    for index, row in csv_contents.iterrows():\n",
    "        if row['Accession'] == str(record.id):\n",
    "            csv_contents.at[cc, 'Sequence'] = str(record.seq)\n",
    "            break\n",
    "        cc += 1"
   ]
  },
  {
   "cell_type": "markdown",
   "metadata": {},
   "source": [
    "Now, we can delete those entries which have **NA** in the Sequence column in the dataframe."
   ]
  },
  {
   "cell_type": "code",
   "execution_count": 71,
   "metadata": {},
   "outputs": [],
   "source": [
    "csv_contents = csv_contents[csv_contents.Sequence != 'NA']"
   ]
  },
  {
   "cell_type": "markdown",
   "metadata": {},
   "source": [
    "Finally writing the altered dataframe into a **final.csv** file."
   ]
  },
  {
   "cell_type": "code",
   "execution_count": 72,
   "metadata": {},
   "outputs": [],
   "source": [
    "csv_contents.to_csv('final.csv',encoding='utf-8',index=False)"
   ]
  },
  {
   "cell_type": "markdown",
   "metadata": {},
   "source": [
    "## Data Visualization"
   ]
  },
  {
   "cell_type": "code",
   "execution_count": 73,
   "metadata": {},
   "outputs": [],
   "source": [
    "df = csv_contents"
   ]
  },
  {
   "cell_type": "markdown",
   "metadata": {},
   "source": [
    "Check presence of **null** values"
   ]
  },
  {
   "cell_type": "code",
   "execution_count": 74,
   "metadata": {},
   "outputs": [
    {
     "data": {
      "text/plain": [
       "Accession           False\n",
       "Release_Date        False\n",
       "Species             False\n",
       "Length               True\n",
       "Geo_Location         True\n",
       "Host                 True\n",
       "Isolation_Source     True\n",
       "Collection_Date      True\n",
       "Sequence             True\n",
       "dtype: bool"
      ]
     },
     "execution_count": 74,
     "metadata": {},
     "output_type": "execute_result"
    }
   ],
   "source": [
    "pd.isnull(df).any()"
   ]
  },
  {
   "cell_type": "markdown",
   "metadata": {},
   "source": [
    "### Geo_Location"
   ]
  },
  {
   "cell_type": "code",
   "execution_count": 75,
   "metadata": {},
   "outputs": [],
   "source": [
    "df[\"Geo_Location\"].fillna(\"NA\", inplace = True)"
   ]
  },
  {
   "cell_type": "markdown",
   "metadata": {},
   "source": [
    "Number of Unique **Geo_Locations** in Dataset"
   ]
  },
  {
   "cell_type": "code",
   "execution_count": 76,
   "metadata": {},
   "outputs": [
    {
     "data": {
      "text/plain": [
       "101"
      ]
     },
     "execution_count": 76,
     "metadata": {},
     "output_type": "execute_result"
    }
   ],
   "source": [
    "df['Geo_Location'].nunique()"
   ]
  },
  {
   "cell_type": "markdown",
   "metadata": {},
   "source": [
    "Number of Datapoints for each **Geo_Location**"
   ]
  },
  {
   "cell_type": "code",
   "execution_count": 77,
   "metadata": {},
   "outputs": [
    {
     "name": "stdout",
     "output_type": "stream",
     "text": [
      "USA: WA                        452\n",
      "USA                            201\n",
      "USA: VA                         58\n",
      "USA: UT                         54\n",
      "USA: ID                         28\n",
      "USA: MA                         19\n",
      "USA: CT                         18\n",
      "Spain                           16\n",
      "China: Wuhan                    16\n",
      "China: Zhejiang, Hangzhou       15\n",
      "USA: GA                         15\n",
      "China                           14\n",
      "Iran                            11\n",
      "China: Hubei, Wuhan             11\n",
      "USA: CA                         10\n",
      "Spain: Valencia                 10\n",
      "China: Beijing                  10\n",
      "China: HuaShang                 10\n",
      "USA: PA                          9\n",
      "Hong Kong                        9\n",
      "USA: MI                          9\n",
      "USA: IL                          9\n",
      "USA: FL                          8\n",
      "USA: MN                          8\n",
      "USA: San Francisco, CA           7\n",
      "USA: AZ                          7\n",
      "China: Shenzhen                  7\n",
      "USA: SC                          7\n",
      "USA: NC                          7\n",
      "USA: IA                          7\n",
      "USA: TX                          5\n",
      "Iran: Tehran                     5\n",
      "Tunisia                          5\n",
      "USA: RI                          4\n",
      "USA: NH                          4\n",
      "Viet Nam                         4\n",
      "China:Wuhan                      4\n",
      "Greece                           4\n",
      "USA: IN                          4\n",
      "Australia                        4\n",
      "Philippines                      4\n",
      "South Korea                      4\n",
      "USA: OR                          4\n",
      "NA                               3\n",
      "Taiwan                           3\n",
      "Italy                            3\n",
      "Malaysia                         3\n",
      "Japan                            3\n",
      "USA: OH                          3\n",
      "China: Guangzhou                 3\n",
      "USA: NE                          2\n",
      "India                            2\n",
      "Italy: Cagliari                  2\n",
      "Belgium                          2\n",
      "Australia: Queensland            2\n",
      "Brazil                           2\n",
      "USA: HI                          2\n",
      "Italy: Rome                      2\n",
      "India: Kerala State              2\n",
      "USA: NY                          2\n",
      "USA: MD                          2\n",
      "USA: NJ                          2\n",
      "USA: New Orleans, LA             2\n",
      "Israel                           2\n",
      "USA: NV                          2\n",
      "Thailand                         2\n",
      "Viet Nam: Ho Chi Minh city       2\n",
      "USA: DC                          1\n",
      "South Africa: KwaZulu-Natal      1\n",
      "Pakistan: KPK                    1\n",
      "Nigeria                          1\n",
      "USA: LA                          1\n",
      "Pakistan                         1\n",
      "USA: North Carolina              1\n",
      "Serbia                           1\n",
      "USA: WI                          1\n",
      "USA: CA, San Diego County        1\n",
      "Turkey                           1\n",
      "China: Yunnan                    1\n",
      "USA: Snohomish County, WA        1\n",
      "Peru                             1\n",
      "China: Shanghai                  1\n",
      "USA: Illinois                    1\n",
      "France                           1\n",
      "Finland                          1\n",
      "Tunisia: Tunis                   1\n",
      "Sweden                           1\n",
      "Nigeria: Lagos                   1\n",
      "Colombia: Antioquia              1\n",
      "Nepal                            1\n",
      "Australia: Victoria              1\n",
      "China: Nanchang                  1\n",
      "China: Anhui, Fuyang             1\n",
      "China: Hangzhou                  1\n",
      "Pakistan: Gilgit                 1\n",
      "USA: MO                          1\n",
      "India: Rajkot                    1\n",
      "China: Guangdong, Guangzhou      1\n",
      "Iraq                             1\n",
      "Iran: Qum                        1\n",
      "USA: KS                          1\n",
      "Name: Geo_Location, dtype: int64\n"
     ]
    }
   ],
   "source": [
    "with pd.option_context('display.max_rows', None, 'display.max_columns', None):\n",
    "    print(df['Geo_Location'].value_counts())"
   ]
  },
  {
   "cell_type": "markdown",
   "metadata": {},
   "source": [
    "### Release_Date"
   ]
  },
  {
   "cell_type": "markdown",
   "metadata": {},
   "source": [
    "Number of Unique **Release_Dates**"
   ]
  },
  {
   "cell_type": "code",
   "execution_count": 78,
   "metadata": {},
   "outputs": [
    {
     "data": {
      "text/plain": [
       "55"
      ]
     },
     "execution_count": 78,
     "metadata": {},
     "output_type": "execute_result"
    }
   ],
   "source": [
    "df['Release_Date'].nunique()"
   ]
  },
  {
   "cell_type": "markdown",
   "metadata": {},
   "source": [
    "Number of Datapoints for each **Release Date**"
   ]
  },
  {
   "cell_type": "code",
   "execution_count": 79,
   "metadata": {},
   "outputs": [
    {
     "name": "stdout",
     "output_type": "stream",
     "text": [
      "2020-04-13T00:00:00Z    261\n",
      "2020-04-20T00:00:00Z    120\n",
      "2020-03-31T00:00:00Z    112\n",
      "2020-04-16T00:00:00Z    112\n",
      "2020-04-06T00:00:00Z    100\n",
      "2020-03-30T00:00:00Z     69\n",
      "2020-04-14T00:00:00Z     52\n",
      "2020-03-26T00:00:00Z     44\n",
      "2020-04-17T00:00:00Z     42\n",
      "2020-04-11T00:00:00Z     33\n",
      "2020-03-27T00:00:00Z     24\n",
      "2020-03-09T00:00:00Z     22\n",
      "2020-04-07T00:00:00Z     20\n",
      "2020-01-24T00:00:00Z     15\n",
      "2020-02-12T00:00:00Z     13\n",
      "2020-04-08T00:00:00Z     13\n",
      "2020-03-13T00:00:00Z     11\n",
      "2020-03-10T00:00:00Z     11\n",
      "2020-04-03T00:00:00Z     11\n",
      "2020-02-20T00:00:00Z     10\n",
      "2020-03-24T00:00:00Z      9\n",
      "2020-02-05T00:00:00Z      8\n",
      "2020-03-12T00:00:00Z      8\n",
      "2020-02-14T00:00:00Z      5\n",
      "2020-01-28T00:00:00Z      5\n",
      "2020-03-16T00:00:00Z      5\n",
      "2020-03-02T00:00:00Z      5\n",
      "2020-01-29T00:00:00Z      5\n",
      "2020-02-11T00:00:00Z      4\n",
      "2020-02-01T00:00:00Z      4\n",
      "2020-03-04T00:00:00Z      4\n",
      "2020-02-28T00:00:00Z      4\n",
      "2020-01-31T00:00:00Z      3\n",
      "2020-02-07T00:00:00Z      3\n",
      "2020-02-24T00:00:00Z      3\n",
      "2020-03-17T00:00:00Z      3\n",
      "2020-02-18T00:00:00Z      3\n",
      "2020-02-13T00:00:00Z      3\n",
      "2020-04-15T00:00:00Z      3\n",
      "2020-03-28T00:00:00Z      2\n",
      "2020-02-26T00:00:00Z      2\n",
      "2020-02-29T00:00:00Z      2\n",
      "2020-03-05T00:00:00Z      2\n",
      "2020-01-23T00:00:00Z      2\n",
      "2020-04-10T00:00:00Z      2\n",
      "2020-02-21T00:00:00Z      2\n",
      "2020-03-06T00:00:00Z      2\n",
      "2020-01-25T00:00:00Z      1\n",
      "2020-03-20T00:00:00Z      1\n",
      "2020-02-27T00:00:00Z      1\n",
      "2020-01-12T00:00:00Z      1\n",
      "2020-02-08T00:00:00Z      1\n",
      "2020-03-25T00:00:00Z      1\n",
      "2020-01-13T00:00:00Z      1\n",
      "2020-03-07T00:00:00Z      1\n",
      "Name: Release_Date, dtype: int64\n"
     ]
    }
   ],
   "source": [
    "with pd.option_context('display.max_rows', None, 'display.max_columns', None):\n",
    "    print(df['Release_Date'].value_counts())"
   ]
  },
  {
   "cell_type": "code",
   "execution_count": null,
   "metadata": {},
   "outputs": [],
   "source": []
  }
 ],
 "metadata": {
  "kernelspec": {
   "display_name": "Python 3",
   "language": "python",
   "name": "python3"
  },
  "language_info": {
   "codemirror_mode": {
    "name": "ipython",
    "version": 3
   },
   "file_extension": ".py",
   "mimetype": "text/x-python",
   "name": "python",
   "nbconvert_exporter": "python",
   "pygments_lexer": "ipython3",
   "version": "3.7.3"
  }
 },
 "nbformat": 4,
 "nbformat_minor": 2
}
